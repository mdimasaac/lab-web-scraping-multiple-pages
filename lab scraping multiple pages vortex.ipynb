{
 "cells": [
  {
   "cell_type": "code",
   "execution_count": 1,
   "metadata": {},
   "outputs": [],
   "source": [
    "from bs4 import BeautifulSoup as bs4\n",
    "import requests\n",
    "import pandas as pd"
   ]
  },
  {
   "cell_type": "code",
   "execution_count": 2,
   "metadata": {},
   "outputs": [],
   "source": [
    "url = \"https://www.popvortex.com/music/charts/\"\n",
    "response = requests.get(url)\n",
    "contents = response.content\n",
    "soup = bs4(contents, \"html.parser\")"
   ]
  },
  {
   "cell_type": "code",
   "execution_count": 15,
   "metadata": {},
   "outputs": [
    {
     "data": {
      "text/plain": [
       "(119, 2)"
      ]
     },
     "metadata": {},
     "output_type": "display_data"
    }
   ],
   "source": [
    "texts = []\n",
    "links = []\n",
    "sidenav = soup.find(\"div\",{\"class\":\"col-xs-12 col-md-4 sidenav\"})\n",
    "sections = sidenav.find_all(\"ul\")\n",
    "for i in sections:\n",
    "    getlink = i.find_all(\"li\")\n",
    "    for j in getlink:\n",
    "        link1 = j.find(\"a\").get(\"href\")\n",
    "        link0 = \"http://popvortex.com\"\n",
    "        link = link0 + link1\n",
    "        text = j.find(\"a\").text\n",
    "        links.append(link)\n",
    "        texts.append(text)\n",
    "data = pd.DataFrame({\"text\":texts, \"link\":links})\n",
    "display(data.shape)"
   ]
  },
  {
   "cell_type": "code",
   "execution_count": 16,
   "metadata": {},
   "outputs": [
    {
     "data": {
      "text/plain": [
       "(70, 2)"
      ]
     },
     "execution_count": 16,
     "metadata": {},
     "output_type": "execute_result"
    }
   ],
   "source": [
    "data = data.drop(labels = 0, axis = 0)\n",
    "data = data[data[\"text\"].str.contains(\"Albums|Videos|Films|Audiobooks|Audiobook|eBook|EBook|Movie|TV|Apps\") == False]\n",
    "data.shape"
   ]
  },
  {
   "cell_type": "code",
   "execution_count": 17,
   "metadata": {},
   "outputs": [
    {
     "data": {
      "text/html": [
       "<div>\n",
       "<style scoped>\n",
       "    .dataframe tbody tr th:only-of-type {\n",
       "        vertical-align: middle;\n",
       "    }\n",
       "\n",
       "    .dataframe tbody tr th {\n",
       "        vertical-align: top;\n",
       "    }\n",
       "\n",
       "    .dataframe thead th {\n",
       "        text-align: right;\n",
       "    }\n",
       "</style>\n",
       "<table border=\"1\" class=\"dataframe\">\n",
       "  <thead>\n",
       "    <tr style=\"text-align: right;\">\n",
       "      <th></th>\n",
       "      <th>text</th>\n",
       "      <th>link</th>\n",
       "    </tr>\n",
       "  </thead>\n",
       "  <tbody>\n",
       "    <tr>\n",
       "      <th>1</th>\n",
       "      <td>iTunes Top 100 Songs</td>\n",
       "      <td>http://popvortex.com/music/charts/top-100-song...</td>\n",
       "    </tr>\n",
       "    <tr>\n",
       "      <th>2</th>\n",
       "      <td>Apple Music Top Streaming Songs</td>\n",
       "      <td>http://popvortex.com/music/charts/apple-music-...</td>\n",
       "    </tr>\n",
       "    <tr>\n",
       "      <th>3</th>\n",
       "      <td>Top 100 Country Songs</td>\n",
       "      <td>http://popvortex.com/music/charts/top-country-...</td>\n",
       "    </tr>\n",
       "    <tr>\n",
       "      <th>5</th>\n",
       "      <td>Top 100 Rap &amp; Hip Hop Songs</td>\n",
       "      <td>http://popvortex.com/music/charts/top-rap-song...</td>\n",
       "    </tr>\n",
       "    <tr>\n",
       "      <th>6</th>\n",
       "      <td>Top 100 Pop Songs</td>\n",
       "      <td>http://popvortex.com/music/charts/top-pop-song...</td>\n",
       "    </tr>\n",
       "  </tbody>\n",
       "</table>\n",
       "</div>"
      ],
      "text/plain": [
       "                              text  \\\n",
       "1             iTunes Top 100 Songs   \n",
       "2  Apple Music Top Streaming Songs   \n",
       "3            Top 100 Country Songs   \n",
       "5      Top 100 Rap & Hip Hop Songs   \n",
       "6                Top 100 Pop Songs   \n",
       "\n",
       "                                                link  \n",
       "1  http://popvortex.com/music/charts/top-100-song...  \n",
       "2  http://popvortex.com/music/charts/apple-music-...  \n",
       "3  http://popvortex.com/music/charts/top-country-...  \n",
       "5  http://popvortex.com/music/charts/top-rap-song...  \n",
       "6  http://popvortex.com/music/charts/top-pop-song...  "
      ]
     },
     "execution_count": 17,
     "metadata": {},
     "output_type": "execute_result"
    }
   ],
   "source": [
    "data.head()"
   ]
  },
  {
   "cell_type": "code",
   "execution_count": 32,
   "metadata": {},
   "outputs": [
    {
     "data": {
      "text/plain": [
       "35000"
      ]
     },
     "execution_count": 32,
     "metadata": {},
     "output_type": "execute_result"
    }
   ],
   "source": [
    "songs = []\n",
    "for i in data.link:\n",
    "    response = requests.get(i)\n",
    "    contents = response.content\n",
    "    soup = bs4(contents, \"html.parser\")\n",
    "    for i in range(1,501,1):\n",
    "        i_id = \"chart-position-\" + str(i)\n",
    "        try:\n",
    "            song = soup.find(\"div\",{\"id\":i_id})\n",
    "            songs.append(song)\n",
    "        except:\n",
    "            break\n",
    "len(songs)"
   ]
  },
  {
   "cell_type": "code",
   "execution_count": 39,
   "metadata": {},
   "outputs": [
    {
     "data": {
      "text/plain": [
       "35000"
      ]
     },
     "execution_count": 39,
     "metadata": {},
     "output_type": "execute_result"
    }
   ],
   "source": [
    "titles = []\n",
    "for i in songs:\n",
    "    try:\n",
    "        title = i.find(\"p\",{\"class\":\"title-artist\"}).find(\"cite\").text\n",
    "    except:\n",
    "        try:\n",
    "            title = i.find(\"p\",{\"class\":\"title-artist\"}).find(\"cite\").find(\"a\").text\n",
    "        except:\n",
    "            pass\n",
    "    titles.append(title)\n",
    "len(titles)"
   ]
  },
  {
   "cell_type": "code",
   "execution_count": 40,
   "metadata": {},
   "outputs": [
    {
     "data": {
      "text/plain": [
       "35000"
      ]
     },
     "execution_count": 40,
     "metadata": {},
     "output_type": "execute_result"
    }
   ],
   "source": [
    "artists = []\n",
    "for i in songs:\n",
    "    try:\n",
    "        artist = i.find(\"p\",{\"class\":\"title-artist\"}).find(\"em\").text\n",
    "    except:\n",
    "        try:\n",
    "            artist = i.find(\"p\",{\"class\":\"title-artist\"}).find(\"em\").find(\"span\").find(\"a\").text\n",
    "        except:\n",
    "            pass\n",
    "    artists.append(artist)\n",
    "len(artists)"
   ]
  },
  {
   "cell_type": "code",
   "execution_count": 41,
   "metadata": {},
   "outputs": [
    {
     "data": {
      "text/plain": [
       "title     0\n",
       "artist    0\n",
       "dtype: int64"
      ]
     },
     "execution_count": 41,
     "metadata": {},
     "output_type": "execute_result"
    }
   ],
   "source": [
    "data = pd.DataFrame({\"title\":titles,\"artist\":artists})\n",
    "data.isna().sum()"
   ]
  },
  {
   "cell_type": "code",
   "execution_count": 42,
   "metadata": {},
   "outputs": [
    {
     "data": {
      "text/html": [
       "<div>\n",
       "<style scoped>\n",
       "    .dataframe tbody tr th:only-of-type {\n",
       "        vertical-align: middle;\n",
       "    }\n",
       "\n",
       "    .dataframe tbody tr th {\n",
       "        vertical-align: top;\n",
       "    }\n",
       "\n",
       "    .dataframe thead th {\n",
       "        text-align: right;\n",
       "    }\n",
       "</style>\n",
       "<table border=\"1\" class=\"dataframe\">\n",
       "  <thead>\n",
       "    <tr style=\"text-align: right;\">\n",
       "      <th></th>\n",
       "      <th>title</th>\n",
       "      <th>artist</th>\n",
       "    </tr>\n",
       "  </thead>\n",
       "  <tbody>\n",
       "    <tr>\n",
       "      <th>0</th>\n",
       "      <td>Separate Ways (Worlds Apart) [feat. Lzzy Hale]</td>\n",
       "      <td>Daughtry</td>\n",
       "    </tr>\n",
       "    <tr>\n",
       "      <th>1</th>\n",
       "      <td>Unholy</td>\n",
       "      <td>Sam Smith &amp; Kim Petras</td>\n",
       "    </tr>\n",
       "    <tr>\n",
       "      <th>2</th>\n",
       "      <td>Anti-Hero</td>\n",
       "      <td>Taylor Swift</td>\n",
       "    </tr>\n",
       "    <tr>\n",
       "      <th>3</th>\n",
       "      <td>Heart Like A Truck</td>\n",
       "      <td>Lainey Wilson</td>\n",
       "    </tr>\n",
       "    <tr>\n",
       "      <th>4</th>\n",
       "      <td>Son Of A Sinner</td>\n",
       "      <td>Jelly Roll</td>\n",
       "    </tr>\n",
       "  </tbody>\n",
       "</table>\n",
       "</div>"
      ],
      "text/plain": [
       "                                            title                  artist\n",
       "0  Separate Ways (Worlds Apart) [feat. Lzzy Hale]                Daughtry\n",
       "1                                          Unholy  Sam Smith & Kim Petras\n",
       "2                                       Anti-Hero            Taylor Swift\n",
       "3                              Heart Like A Truck           Lainey Wilson\n",
       "4                                 Son Of A Sinner              Jelly Roll"
      ]
     },
     "metadata": {},
     "output_type": "display_data"
    },
    {
     "data": {
      "text/plain": [
       "(35000, 2)"
      ]
     },
     "execution_count": 42,
     "metadata": {},
     "output_type": "execute_result"
    }
   ],
   "source": [
    "display(data.head())\n",
    "data.shape"
   ]
  }
 ],
 "metadata": {
  "kernelspec": {
   "display_name": "Python 3",
   "language": "python",
   "name": "python3"
  },
  "language_info": {
   "codemirror_mode": {
    "name": "ipython",
    "version": 3
   },
   "file_extension": ".py",
   "mimetype": "text/x-python",
   "name": "python",
   "nbconvert_exporter": "python",
   "pygments_lexer": "ipython3",
   "version": "3.10.2"
  },
  "orig_nbformat": 4,
  "vscode": {
   "interpreter": {
    "hash": "1acc24bd1901f9ae8c29efb6830fcc1ca9fe0219dd00f8f1dc1b91856def15a9"
   }
  }
 },
 "nbformat": 4,
 "nbformat_minor": 2
}
